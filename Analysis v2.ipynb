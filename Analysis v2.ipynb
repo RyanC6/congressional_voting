{
 "cells": [
  {
   "cell_type": "code",
   "execution_count": 1,
   "metadata": {},
   "outputs": [],
   "source": [
    "import pandas as pd\n",
    "import numpy as np\n",
    "import sqlite3\n",
    "import matplotlib.pyplot as plt\n",
    "from matplotlib import cm\n",
    "from mpl_toolkits.mplot3d import Axes3D\n",
    "import seaborn as sns\n",
    "%matplotlib inline\n",
    "\n",
    "pd.options.display.max_columns = 100"
   ]
  },
  {
   "cell_type": "code",
   "execution_count": 2,
   "metadata": {},
   "outputs": [],
   "source": [
    "from secret import local_config"
   ]
  },
  {
   "cell_type": "markdown",
   "metadata": {},
   "source": [
    "# Propub Specific Vote Data"
   ]
  },
  {
   "cell_type": "code",
   "execution_count": 3,
   "metadata": {},
   "outputs": [],
   "source": [
    "### Set connection to sqlite DB\n",
    "### Source: local_config db_params\n",
    "conn = sqlite3.connect(local_config.db_params['database'])\n",
    "\n",
    "### Establish datatables from DB tables\n",
    "df_voters = pd.read_sql_query('SELECT * from {}'.format(\n",
    "    local_config.db_params['table_individual_votes']), conn)\n",
    "df_overview = pd.read_sql_query('SELECT * from {}'.format(\n",
    "    local_config.db_params['table_overview']), conn)\n",
    "\n",
    "# Close connection\n",
    "conn.close()\n",
    "\n",
    "# Remove Index\n",
    "del df_overview['index']\n",
    "del df_voters['index']"
   ]
  },
  {
   "cell_type": "code",
   "execution_count": 4,
   "metadata": {},
   "outputs": [],
   "source": [
    "full = df_voters.merge(df_overview, on=['congress','session','roll_call'])"
   ]
  },
  {
   "cell_type": "code",
   "execution_count": 5,
   "metadata": {},
   "outputs": [],
   "source": [
    "full['republican_total'] = full['republican_yes'] + full['republican_no'] + full['republican_not_voting']\n",
    "full['democratic_total'] = full['democratic_yes'] + full['democratic_no'] + full['democratic_not_voting']\n",
    "full['independent_total'] = full['independent_yes'] + full['independent_no'] + full['independent_not_voting']\n",
    "full['total'] = full[['republican_total','democratic_total','independent_total']].sum(axis=1)\n",
    "full['total_yes'] = full['republican_yes'] +full['democratic_yes'] +full['independent_yes']\n",
    "full['republican_per_yes'] = full['republican_yes']/full['republican_total']\n",
    "full['democratic_per_yes'] = full['democratic_yes']/full['democratic_total']\n",
    "full['total_per_yes'] = full['total_yes']/full['total']"
   ]
  },
  {
   "cell_type": "code",
   "execution_count": 6,
   "metadata": {},
   "outputs": [],
   "source": [
    "full['congress_id'] = full['congress'] + (full['session']-1)/2"
   ]
  },
  {
   "cell_type": "code",
   "execution_count": 7,
   "metadata": {},
   "outputs": [],
   "source": [
    "\"\"\"The further from zero the value the more partisan the closer to 0 the less \n",
    "(more cross isle balance)\"\"\"\n",
    "\n",
    "full['partisan_weight'] = (\n",
    "    (full['democratic_per_yes']-full['republican_per_yes'])/\n",
    "                    full['total_per_yes']\n",
    ")"
   ]
  },
  {
   "cell_type": "code",
   "execution_count": 8,
   "metadata": {},
   "outputs": [],
   "source": [
    "def fix_vote_type(vote_type):\n",
    "    try:\n",
    "        numer, denom = vote_type.split('/')\n",
    "        perct = float(numer)/float(denom)*100\n",
    "    except:\n",
    "        perct = vote_type\n",
    "    finally:\n",
    "        if perct == 50:\n",
    "            \n",
    "            return 51\n",
    "        else:\n",
    "            return np.round(perct,0).astype(int)\n",
    "\n",
    "full['vote_type'] = full['vote_type'].map(fix_vote_type)"
   ]
  },
  {
   "cell_type": "code",
   "execution_count": 9,
   "metadata": {},
   "outputs": [],
   "source": [
    "full['yes_needed'] = (full['vote_type']/100)*full['total']\n",
    "full['pass'] = np.where(full['total_yes']>full['yes_needed'],True,False)"
   ]
  },
  {
   "cell_type": "code",
   "execution_count": 10,
   "metadata": {},
   "outputs": [],
   "source": [
    "full['vote_position'] = full['vote_position'].replace(\n",
    "    'Yes', 1).replace(\n",
    "    'No', -1).replace(\n",
    "    'Not Voting', 0).replace(\n",
    "    'Present', 0)"
   ]
  },
  {
   "cell_type": "code",
   "execution_count": 11,
   "metadata": {},
   "outputs": [],
   "source": [
    "full['vote_partisonship'] = full['vote_position']*full['partisan_weight']"
   ]
  },
  {
   "cell_type": "code",
   "execution_count": 12,
   "metadata": {},
   "outputs": [],
   "source": [
    "agg_method = {'vote_position':'sum',\n",
    "              'democratic_no':'sum',\n",
    "              'democratic_yes':'sum',\n",
    "              'republican_no':'sum',\n",
    "              'republican_yes':'sum',\n",
    "              'independent_yes':'sum',\n",
    "              'independent_no':'sum',\n",
    "              'vote_partisonship':['mean','median','std'],\n",
    "              'partisan_weight':'sum',\n",
    "              'democratic_present':'count',\n",
    "              'party':'first'}"
   ]
  },
  {
   "cell_type": "markdown",
   "metadata": {},
   "source": [
    "# TF Analysis"
   ]
  },
  {
   "cell_type": "code",
   "execution_count": 13,
   "metadata": {},
   "outputs": [],
   "source": [
    "import tensorflow as tf\n",
    "from tensorflow import keras\n",
    "\n",
    "import numpy as np\n",
    "import re"
   ]
  },
  {
   "cell_type": "code",
   "execution_count": 14,
   "metadata": {},
   "outputs": [],
   "source": [
    "def helper_slit(str_, delim, seg):\n",
    "    try:\n",
    "        str_list = str_.split(delim)\n",
    "        return str_list[seg]\n",
    "    except:\n",
    "        return str_"
   ]
  },
  {
   "cell_type": "code",
   "execution_count": 15,
   "metadata": {},
   "outputs": [],
   "source": [
    "def str_check(str_, sub_str, case=True):\n",
    "    if type(str_) != str:\n",
    "        return False\n",
    "    if case == False:\n",
    "        str_ = str_.lower()\n",
    "        sub_str = sub_str.lower()\n",
    "    if sub_str in str_:\n",
    "        return True"
   ]
  },
  {
   "cell_type": "code",
   "execution_count": 16,
   "metadata": {},
   "outputs": [],
   "source": [
    "df = df_overview.copy()"
   ]
  },
  {
   "cell_type": "code",
   "execution_count": 275,
   "metadata": {},
   "outputs": [],
   "source": [
    "def search_bill(des):\n",
    "    if type(des) != str:\n",
    "        return 'No Bill'\n",
    "    sen_str = 'S.[ 0-9]+'\n",
    "    hou_str = 'Res.[ 0-9]+'\n",
    "    amd_str = 'Amendment No[. ]+[0-9]+'\n",
    "    amd_str2 = 'Amdt. [No]+[0-9]+'\n",
    "    amd_str3 = 'Amdt[. ][0-9]+'\n",
    "    hr_str = 'H.R. [0-9]+'\n",
    "    no_str = 'No. [0-9]+'\n",
    "    str_l = [sen_str, hou_str, amd_str, amd_str2, amd_str3, hr_str, no_str, '']\n",
    "    str_n = 0\n",
    "    fin = []\n",
    "    while len(fin) < 1:\n",
    "        str_f = str_l[str_n]\n",
    "        fin = re.findall(pattern=str_f, string=des)\n",
    "        str_n += 1\n",
    "        if str_n == len(str_l):\n",
    "            if 'nomination' in des.lower():\n",
    "                return 'nomination'\n",
    "            else:\n",
    "                fin = ['No Bill']\n",
    "    final = fin[0].replace('.A',\n",
    "                   'A').lower().replace('.',\n",
    "                   '. ').replace('  ',\n",
    "                   ' ').replace('amdt.',\n",
    "                   'amendment').replace('h. r.',\n",
    "                   'h.r.')\n",
    "    if final[0] == ' ':\n",
    "        final = final[1:]\n",
    "    if 'amendment no.' in final:\n",
    "        final = 'amendment no. ' + final.split('amendment no.')[-1]\n",
    "    return final"
   ]
  },
  {
   "cell_type": "code",
   "execution_count": 276,
   "metadata": {},
   "outputs": [],
   "source": [
    "df['bill'] = df['description'].apply(search_bill)"
   ]
  },
  {
   "cell_type": "code",
   "execution_count": 277,
   "metadata": {},
   "outputs": [
    {
     "data": {
      "text/plain": [
       "no bill    4627\n",
       "Name: bill, dtype: int64"
      ]
     },
     "execution_count": 277,
     "metadata": {},
     "output_type": "execute_result"
    }
   ],
   "source": [
    "df[df['bill'] == 'no bill']['bill'].value_counts()"
   ]
  },
  {
   "cell_type": "code",
   "execution_count": null,
   "metadata": {},
   "outputs": [],
   "source": [
    "(train_data, train_labels), (test_data, test_labels) = boston_housing.load_data()\n",
    "\n",
    "# Shuffle the training set\n",
    "order = np.argsort(np.random.random(train_labels.shape))\n",
    "train_data = train_data[order]\n",
    "train_labels = train_labels[order]"
   ]
  }
 ],
 "metadata": {
  "kernelspec": {
   "display_name": "Python 3",
   "language": "python",
   "name": "python3"
  },
  "language_info": {
   "codemirror_mode": {
    "name": "ipython",
    "version": 3
   },
   "file_extension": ".py",
   "mimetype": "text/x-python",
   "name": "python",
   "nbconvert_exporter": "python",
   "pygments_lexer": "ipython3",
   "version": "3.6.6"
  },
  "toc": {
   "nav_menu": {},
   "number_sections": true,
   "sideBar": true,
   "skip_h1_title": false,
   "title_cell": "Table of Contents",
   "title_sidebar": "Contents",
   "toc_cell": false,
   "toc_position": {
    "height": "calc(100% - 180px)",
    "left": "10px",
    "top": "150px",
    "width": "214px"
   },
   "toc_section_display": true,
   "toc_window_display": true
  }
 },
 "nbformat": 4,
 "nbformat_minor": 2
}
